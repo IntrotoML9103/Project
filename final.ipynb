{
 "cells": [
  {
   "cell_type": "code",
   "execution_count": null,
   "metadata": {
    "vscode": {
     "languageId": "plaintext"
    }
   },
   "outputs": [],
   "source": [
    "\n",
    "!wget -q https://github.com/DM-GY-9103-2024F-H/9103-utils/raw/main/src/data_utils.py\n",
    "!wget -q https://github.com/DM-GY-9103-2024F-H/9103-utils/raw/main/src/image_utils.py\n",
    "!wget -q https://github.com/DM-GY-9103-2024F-H/WK13/raw/main/final_utils.py\n",
    "\n",
    "!wget -qO- https://github.com/DM-GY-9103-2024F-H/9103-utils/releases/latest/download/lfw.tar.gz | tar xz"
   ]
  },
  {
   "cell_type": "markdown",
   "metadata": {},
   "source": [
    "Data Processing"
   ]
  },
  {
   "cell_type": "code",
   "execution_count": null,
   "metadata": {
    "vscode": {
     "languageId": "plaintext"
    }
   },
   "outputs": [],
   "source": [
    "import os\n",
    "import random\n",
    "\n",
    "random.seed(42)\n",
    "\n",
    "artist_names = [\n",
    "    \"Albrecht_Dürer\",\n",
    "    \"Alfred_Sisley\",\n",
    "    \"Amedeo_Modigliani\",\n",
    "    \"Andy_Warhol\",\n",
    "    \"Diego_Velazquez\",\n",
    "    \"Edgar_Degas\",\n",
    "    \"Francisco_Goya\",\n",
    "    \"Frida_Kahlo\",\n",
    "    \"Giotto_di_Bondone\",\n",
    "    \"Gustav_Klimt\",\n",
    "    \"Henri_Matisse\",\n",
    "    \"Hieronymus_Bosch\",\n",
    "    \"Joan_Miro\",\n",
    "    \"Kazimir_Malevich\",\n",
    "    \"Leonardo_da_Vinci\",\n",
    "    \"Marc_Chagall\",\n",
    "    \"Mikhail_Vrubel\",\n",
    "    \"Pablo_Picasso\",\n",
    "    \"Paul_Gauguin\",\n",
    "    \"Paul_Klee\",\n",
    "    \"Peter_Paul_Rubens\",\n",
    "    \"Pierre_Auguste_Renoir\",\n",
    "    \"Pieter_Bruegel\",\n",
    "    \"Raphael\",\n",
    "    \"Rembrandt\",\n",
    "    \"Rene_Magritte\",\n",
    "    \"Salvador_Dali\",\n",
    "    \"Sandro_Botticelli\",\n",
    "    \"Titian\",\n",
    "    \"Vincent_van_Gogh\"\n",
    "]\n",
    "\n",
    "artists_dict = {index: name for index, name in enumerate(artist_names, start=1)}\n",
    "\n",
    "file_names = [f\"file{i}\" for i in range(1, 102)]\n",
    "\n",
    "random.shuffle(file_names)\n",
    "\n",
    "train_files = file_names[:81]\n",
    "test_files = file_names[81:]\n",
    "\n"
   ]
  }
 ],
 "metadata": {
  "language_info": {
   "name": "python"
  }
 },
 "nbformat": 4,
 "nbformat_minor": 2
}
