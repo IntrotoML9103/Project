{
 "cells": [
  {
   "cell_type": "code",
   "execution_count": 1,
   "metadata": {},
   "outputs": [],
   "source": [
    "\n",
    "#!wget -q https://github.com/DM-GY-9103-2024F-H/9103-utils/raw/main/src/data_utils.py\n",
    "#!wget -q https://github.com/DM-GY-9103-2024F-H/9103-utils/raw/main/src/image_utils.py\n",
    "#!wget -q https://github.com/IntrotoML9103/Project/blob/main/final_utils.py\n",
    "\n",
    "#!wget -qO- https://github.com/DM-GY-9103-2024F-H/9103-utils/releases/latest/download/lfw.tar.gz | tar xz"
   ]
  },
  {
   "cell_type": "markdown",
   "metadata": {},
   "source": [
    "Data Processing"
   ]
  },
  {
   "cell_type": "code",
   "execution_count": null,
   "metadata": {},
   "outputs": [
    {
     "name": "stdout",
     "output_type": "stream",
     "text": [
      "3030\n",
      "2424\n",
      "606\n"
     ]
    }
   ],
   "source": [
    "import os\n",
    "import random\n",
    "from os import listdir, path\n",
    "\n",
    "random.seed(42)\n",
    "\n",
    "artist_names = [\n",
    "    \"Albrecht_Dürer\",\n",
    "    \"Alfred_Sisley\",\n",
    "    \"Amedeo_Modigliani\",\n",
    "    \"Andy_Warhol\",\n",
    "    \"Diego_Velazquez\",\n",
    "    \"Edgar_Degas\",\n",
    "    \"Francisco_Goya\",\n",
    "    \"Frida_Kahlo\",\n",
    "    \"Giotto_di_Bondone\",\n",
    "    \"Gustav_Klimt\",\n",
    "    \"Henri_Matisse\",\n",
    "    \"Hieronymus_Bosch\",\n",
    "    \"Joan_Miro\",\n",
    "    \"Kazimir_Malevich\",\n",
    "    \"Leonardo_da_Vinci\",\n",
    "    \"Marc_Chagall\",\n",
    "    \"Mikhail_Vrubel\",\n",
    "    \"Pablo_Picasso\",\n",
    "    \"Paul_Gauguin\",\n",
    "    \"Paul_Klee\",\n",
    "    \"Peter_Paul_Rubens\",\n",
    "    \"Pierre_Auguste_Renoir\",\n",
    "    \"Pieter_Bruegel\",\n",
    "    \"Raphael\",\n",
    "    \"Rembrandt\",\n",
    "    \"Rene_Magritte\",\n",
    "    \"Salvador_Dali\",\n",
    "    \"Sandro_Botticelli\",\n",
    "    \"Titian\",\n",
    "    \"Vincent_van_Gogh\"\n",
    "]\n",
    "\n",
    "artists_dict = {name:index  for index, name in enumerate(artist_names)}\n",
    "\n",
    "file_names = sorted([f for f in listdir(\"imgs\") if f.endswith(\".jpg\")])\n",
    "\n",
    "print(len(file_names))\n",
    "\n",
    "random.shuffle(file_names)\n",
    "\n",
    "train_files = file_names[:2424]\n",
    "test_files = file_names[2424:]\n",
    "\n",
    "print(len(train_files))\n",
    "print(len(test_files))\n",
    "\n",
    "train_list = [] \n",
    "train_label = [] # get name from file - artists_dict map the name to the number - e.g: index Durer - returns 0 \n",
    "\n",
    "for:\n",
    "img = open_image(dirname+fname)\n",
    "img_t = Tensor(img.pixels).reshape(224,224,3).permute(2,0,1)\n",
    "\n",
    "\n",
    "\n",
    "\n",
    "\n",
    "\n",
    "test_list = []\n",
    "test_label = []\n",
    "\n",
    "\n",
    "\n",
    "\n"
   ]
  }
 ],
 "metadata": {
  "kernelspec": {
   "display_name": "Python 3",
   "language": "python",
   "name": "python3"
  },
  "language_info": {
   "codemirror_mode": {
    "name": "ipython",
    "version": 3
   },
   "file_extension": ".py",
   "mimetype": "text/x-python",
   "name": "python",
   "nbconvert_exporter": "python",
   "pygments_lexer": "ipython3",
   "version": "3.10.15"
  }
 },
 "nbformat": 4,
 "nbformat_minor": 2
}
