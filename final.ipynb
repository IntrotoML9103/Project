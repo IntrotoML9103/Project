{
  "cells": [
    {
      "cell_type": "code",
      "execution_count": null,
      "metadata": {
        "id": "OtBx1SFtCPl6"
      },
      "outputs": [],
      "source": [
        "!wget -q https://github.com/DM-GY-9103-2024F-H/9103-utils/raw/main/src/data_utils.py\n",
        "!wget -q https://github.com/DM-GY-9103-2024F-H/9103-utils/raw/main/src/image_utils.py\n",
        "!wget -q https://github.com/IntrotoML9103/Project/blob/main/final_utils.py\n",
        "\n",
        "!wget -qO- https://github.com/DM-GY-9103-2024F-H/art-dataset/releases/latest/download/imgs.tar.gz | tar xz\n"
      ]
    },
    {
      "cell_type": "code",
      "source": [
        "!ls"
      ],
      "metadata": {
        "colab": {
          "base_uri": "https://localhost:8080/"
        },
        "id": "eK-e40goDivB",
        "outputId": "770404fe-0fac-494b-8077-2d7bdb3c4836"
      },
      "execution_count": null,
      "outputs": [
        {
          "output_type": "stream",
          "name": "stdout",
          "text": [
            "data_utils.py  final_utils.py  image_utils.py  imgs.zip  sample_data\n"
          ]
        }
      ]
    },
    {
      "cell_type": "code",
      "source": [
        "!unzip -q imgs.zip"
      ],
      "metadata": {
        "id": "WHRzPFv6Dmxs"
      },
      "execution_count": null,
      "outputs": []
    },
    {
      "cell_type": "code",
      "source": [
        "!rm -rf __MACOSX/"
      ],
      "metadata": {
        "id": "kyEbExMYM5hP"
      },
      "execution_count": null,
      "outputs": []
    },
    {
      "cell_type": "markdown",
      "metadata": {
        "id": "UDqhFx-pCPl9"
      },
      "source": [
        "Data Processing"
      ]
    },
    {
      "cell_type": "code",
      "execution_count": null,
      "metadata": {
        "colab": {
          "base_uri": "https://localhost:8080/"
        },
        "id": "jUWIecMdCPl-",
        "outputId": "50a33411-4303-4fa4-867d-3ee778b5e1bd"
      },
      "outputs": [
        {
          "output_type": "stream",
          "name": "stdout",
          "text": [
            "2929\n",
            "256\n",
            "256\n"
          ]
        }
      ],
      "source": [
        "import os\n",
        "import random\n",
        "from os import listdir, path\n",
        "import torch\n",
        "from torch import Tensor\n",
        "from image_utils import make_image, open_image\n",
        "\n",
        "\n",
        "random.seed(42)\n",
        "\n",
        "artist_names = [\n",
        "    \"Albrecht_Dürer\",\n",
        "    \"Alfred_Sisley\",\n",
        "    \"Amedeo_Modigliani\",\n",
        "    \"Andy_Warhol\",\n",
        "    \"Diego_Velazquez\",\n",
        "    \"Edgar_Degas\",\n",
        "    \"Francisco_Goya\",\n",
        "    \"Frida_Kahlo\",\n",
        "    \"Giotto_di_Bondone\",\n",
        "    \"Gustav_Klimt\",\n",
        "    \"Henri_Matisse\",\n",
        "    \"Hieronymus_Bosch\",\n",
        "    \"Joan_Miro\",\n",
        "    \"Kazimir_Malevich\",\n",
        "    \"Leonardo_da_Vinci\",\n",
        "    \"Marc_Chagall\",\n",
        "    \"Mikhail_Vrubel\",\n",
        "    \"Pablo_Picasso\",\n",
        "    \"Paul_Gauguin\",\n",
        "    \"Paul_Klee\",\n",
        "    \"Peter_Paul_Rubens\",\n",
        "    \"Pierre_Auguste_Renoir\",\n",
        "    \"Pieter_Bruegel\",\n",
        "    \"Raphael\",\n",
        "    \"Rembrandt\",\n",
        "    \"Rene_Magritte\",\n",
        "    \"Salvador_Dali\",\n",
        "    \"Sandro_Botticelli\",\n",
        "    \"Titian\",\n",
        "    \"Vincent_van_Gogh\"\n",
        "]\n",
        "\n",
        "artists_dict = {name:index  for index, name in enumerate(artist_names)}\n",
        "\n",
        "file_names = sorted([f for f in listdir(\"imgs\") if f.endswith(\".jpg\")])\n",
        "\n",
        "print(len(file_names))\n",
        "\n",
        "random.shuffle(file_names)\n",
        "\n",
        "train_files = file_names[:256]\n",
        "test_files = file_names[-256:]\n",
        "check_files = file_names[151:200]\n",
        "\n",
        "print(len(train_files))\n",
        "print(len(test_files))\n",
        "\n",
        "image_dir = \"imgs\"\n",
        "new_size = (224, 224)\n",
        "\n",
        "train_list = []\n",
        "train_label = [] # get name from file - artists_dict map the name to the number - e.g: index Durer - returns 0\n",
        "\n",
        "\n",
        "test_list = []\n",
        "test_label = []\n",
        "\n",
        "check_list = []\n",
        "check_label = []\n",
        "\n",
        "count = 0;\n",
        "\n",
        "for fname in train_files:\n",
        "    a_name = \"_\".join(fname.split(\"_\")[:-1])\n",
        "    label_1 = artists_dict.get(a_name, -1)\n",
        "\n",
        "    if label_1 != -1:\n",
        "        img_space = path.join(image_dir, fname)\n",
        "        new_img = open_image(img_space).resize(new_size)\n",
        "        img_tr = Tensor(new_img.pixels).reshape(224,224,-1).permute(2,0,1)\n",
        "        if img_tr.shape[0] == 1:\n",
        "            img_tr = img_tr.repeat(3,1,1)\n",
        "\n",
        "    train_list.append(img_tr)\n",
        "    train_label.append(label_1)"
      ]
    },
    {
      "cell_type": "code",
      "source": [
        "for fname in test_files:\n",
        "    a_name = \"_\".join(fname.split(\"_\")[:-1])\n",
        "    label = artists_dict.get(a_name, -1)\n",
        "\n",
        "    if label != -1:\n",
        "        img_space = path.join(image_dir, fname)\n",
        "        new_img = open_image(img_space).resize(new_size)\n",
        "        img_t = Tensor(new_img.pixels).reshape(224,224,-1).permute(2,0,1)\n",
        "        if img_t.shape[0] == 1:\n",
        "            img_t = img_t.repeat(3,1,1)\n",
        "\n",
        "    test_list.append(img_t)\n",
        "    test_label.append(label)"
      ],
      "metadata": {
        "id": "17bHzuU1TLvG"
      },
      "execution_count": null,
      "outputs": []
    },
    {
      "cell_type": "code",
      "source": [
        "from torch.utils.data import Dataset, DataLoader\n",
        "\n",
        "x_train = torch.stack(train_list)\n",
        "y_train = Tensor(train_label).long()\n",
        "\n",
        "x_test = torch.stack(test_list)\n",
        "y_test = Tensor(test_label).long()\n",
        "\n",
        "class FaceDataset(Dataset):\n",
        "  def __init__(self, imgs, labels):\n",
        "    self.imgs = imgs\n",
        "    self.labels = labels\n",
        "\n",
        "  def __len__(self):\n",
        "    return len(self.labels)\n",
        "\n",
        "  def __getitem__(self, idx):\n",
        "    return [self.imgs[idx], self.labels[idx]]\n",
        "\n",
        "train_dataloader = DataLoader(FaceDataset(x_train, y_train), batch_size=128) #shuffle=True)\n",
        "test_dataloader = DataLoader(FaceDataset(x_test, y_test), batch_size=512)"
      ],
      "metadata": {
        "id": "27RPqkYRSvgr"
      },
      "execution_count": null,
      "outputs": []
    },
    {
      "cell_type": "code",
      "source": [
        "model = resnet34(weights=ResNet34_Weights.DEFAULT)\n",
        "display(model)"
      ],
      "metadata": {
        "id": "kc3RjJUbSvR_"
      },
      "execution_count": null,
      "outputs": []
    },
    {
      "cell_type": "code",
      "source": [
        "train_transforms = v2.Compose([\n",
        "\tv2.RandomHorizontalFlip(p=0.5),\n",
        "\tv2.RandomRotation(degrees=15),\n",
        "\tv2.RandomPerspective(distortion_scale=0.15, p=0.5),\n",
        "])\n",
        "\n",
        "eval_transforms = v2.Compose([\n",
        "  v2.Resize(224),\n",
        "  v2.Normalize(mean=[0.485, 0.456, 0.406], std=[0.229, 0.224, 0.225]),\n",
        "])\n",
        "\n",
        "train, test = LFWUtils.train_test_split(0.5, resnet_loader=True, train_transform=train_transforms, eval_transform=eval_transforms)"
      ],
      "metadata": {
        "id": "xMFxPV4uaZjA"
      },
      "execution_count": null,
      "outputs": []
    },
    {
      "cell_type": "code",
      "source": [
        "img,label = next(iter(train))\n",
        "print(img.shape, img[0].shape)\n",
        "display(v2.ToPILImage()(img[0]))"
      ],
      "metadata": {
        "id": "0QXdtJe9abK8"
      },
      "execution_count": null,
      "outputs": []
    },
    {
      "cell_type": "code",
      "source": [
        "mdevice = \"cuda\" if torch.cuda.is_available() else \"cpu\"\n",
        "\n",
        "model.fc = nn.Linear(model.fc.in_features, len(LFWUtils.LABELS))\n",
        "model = model.to(mdevice)\n",
        "\n",
        "learning_rate = 5e-3\n",
        "optim = torch.optim.SGD(model.parameters(), lr=learning_rate, momentum=0.9)\n",
        "\n",
        "loss_fn = nn.CrossEntropyLoss()\n",
        "\n",
        "img, label = next(iter(train))\n",
        "out = model(img)\n",
        "\n",
        "print(\"Input shape:\", img.shape)\n",
        "print(\"Output shape:\", out.shape)\n",
        "print(\"Parameters:\", LFWUtils.count_parameters(model))"
      ],
      "metadata": {
        "id": "RMhx7rAJaczb"
      },
      "execution_count": null,
      "outputs": []
    },
    {
      "cell_type": "code",
      "source": [
        "for e in range(16):\n",
        "  model.train()\n",
        "  for imgs, labels in train:\n",
        "    optim.zero_grad()\n",
        "    labels_pred = model(imgs)\n",
        "    loss = loss_fn(labels_pred, labels)\n",
        "    loss.backward()\n",
        "    optim.step()\n",
        "\n",
        "  if e % 4 == 3:\n",
        "    print(f\"Epoch: {e} loss: {loss.item():.4f}\")"
      ],
      "metadata": {
        "id": "XcKFORd7ae11"
      },
      "execution_count": null,
      "outputs": []
    },
    {
      "cell_type": "code",
      "source": [
        "train_labels, train_predictions = LFWUtils.get_labels(model, train)\n",
        "test_labels, test_predictions = LFWUtils.get_labels(model, test)\n",
        "train_error = classification_error(train_labels, train_predictions)\n",
        "test_error = classification_error(test_labels, test_predictions)\n",
        "print(f\"train error: {train_error:.4f}, test error: {test_error:.4f}\")\n",
        "\n",
        "display_confusion_matrix(train_labels, train_predictions, display_labels=LFWUtils.LABELS)\n",
        "display_confusion_matrix(test_labels, test_predictions, display_labels=LFWUtils.LABELS)"
      ],
      "metadata": {
        "id": "picwF0zjagzv"
      },
      "execution_count": null,
      "outputs": []
    }
  ],
  "metadata": {
    "kernelspec": {
      "display_name": "Python 3",
      "name": "python3"
    },
    "language_info": {
      "codemirror_mode": {
        "name": "ipython",
        "version": 3
      },
      "file_extension": ".py",
      "mimetype": "text/x-python",
      "name": "python",
      "nbconvert_exporter": "python",
      "pygments_lexer": "ipython3",
      "version": "3.10.15"
    },
    "colab": {
      "provenance": []
    }
  },
  "nbformat": 4,
  "nbformat_minor": 0
}